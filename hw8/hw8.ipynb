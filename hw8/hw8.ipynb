{
 "cells": [
  {
   "cell_type": "code",
   "execution_count": 1,
   "metadata": {},
   "outputs": [
    {
     "name": "stdout",
     "output_type": "stream",
     "text": [
      "Enabling notebook extension jupyter-js-widgets/extension...\n",
      "      - Validating: \u001b[32mOK\u001b[0m\n"
     ]
    }
   ],
   "source": [
    "!pip install -U -q ipywidgets\n",
    "!jupyter nbextension enable --py widgetsnbextension"
   ]
  },
  {
   "cell_type": "code",
   "execution_count": 2,
   "metadata": {},
   "outputs": [],
   "source": [
    "!pip install -U -q pandas\n",
    "!pip install -U -q matplotlib"
   ]
  },
  {
   "cell_type": "markdown",
   "metadata": {},
   "source": [
    "### HW8\n",
    "\n"
   ]
  },
  {
   "cell_type": "code",
   "execution_count": 3,
   "metadata": {},
   "outputs": [],
   "source": [
    "import pandas as pd\n",
    "\n",
    "import ipywidgets as widgets\n",
    "from ipywidgets import interact\n",
    "\n",
    "%matplotlib inline\n",
    "from matplotlib import pyplot as plt\n",
    "import matplotlib.dates as mdates\n",
    "from pandas.plotting import register_matplotlib_converters\n",
    "register_matplotlib_converters()"
   ]
  },
  {
   "cell_type": "code",
   "execution_count": 4,
   "metadata": {},
   "outputs": [],
   "source": [
    "df = pd.read_csv('http://sbrfdata.ru/opendata.zip', encoding='windows-1251')\n",
    "df.date = pd.to_datetime(df.date, format=\"%Y-%m-%d\")"
   ]
  },
  {
   "cell_type": "markdown",
   "metadata": {},
   "source": [
    "Строим списки уникальных значений регионов и метрик."
   ]
  },
  {
   "cell_type": "code",
   "execution_count": 11,
   "metadata": {},
   "outputs": [],
   "source": [
    "metrics = df.name.unique()\n",
    "regions = df.region.unique()"
   ]
  },
  {
   "cell_type": "code",
   "execution_count": 21,
   "metadata": {},
   "outputs": [
    {
     "data": {
      "application/vnd.jupyter.widget-view+json": {
       "model_id": "52407da5b1b346b684a9b5b0ed3fe1de",
       "version_major": 2,
       "version_minor": 0
      },
      "text/plain": [
       "interactive(children=(Dropdown(description='metrics', options=('Количество заявок на потребительские кредиты',…"
      ]
     },
     "metadata": {},
     "output_type": "display_data"
    }
   ],
   "source": [
    "def draw_plot(metrics, region, start_date, end_date):\n",
    "    start_date = pd.Timestamp(start_date)\n",
    "    end_date = pd.Timestamp(end_date)\n",
    "    df_plot = df[(df.name == metrics) & \n",
    "             (df.region == region) & \n",
    "             (df.date >= start_date) &\n",
    "             (df.date <= end_date)]\n",
    "    \n",
    "    x = list(df_plot.date)\n",
    "    y = list(df_plot.value)\n",
    "    \n",
    "    fig, ax = plt.subplots(figsize=(16, 9))\n",
    "    ax.set_title(f'{region} - {metrics}')\n",
    "    ax.plot_date(x, y, linestyle='-')\n",
    "    \n",
    "    for i in range(len(x)):\n",
    "        ax.annotate(y[i], (mdates.date2num(x[i]), y[i]), ha=\"right\", va=\"center\",\n",
    "                    xytext=(20, 15), textcoords='offset points', bbox=dict(boxstyle=\"round\", fc=\"w\", ec=\"k\"))\n",
    "    \n",
    "    plt.show()\n",
    "    \n",
    "_ = interact(draw_plot, \n",
    "             region=widgets.Dropdown(options=list(regions)), \n",
    "             metrics=widgets.Dropdown(options=list(metrics)),\n",
    "             start_date = widgets.DatePicker(value=pd.to_datetime('2018-01-01')), \n",
    "             end_date = widgets.DatePicker(value=pd.to_datetime('2019-01-01')))"
   ]
  },
  {
   "cell_type": "code",
   "execution_count": null,
   "metadata": {},
   "outputs": [],
   "source": []
  }
 ],
 "metadata": {
  "kernelspec": {
   "display_name": "Python 3",
   "language": "python",
   "name": "python3"
  },
  "language_info": {
   "codemirror_mode": {
    "name": "ipython",
    "version": 3
   },
   "file_extension": ".py",
   "mimetype": "text/x-python",
   "name": "python",
   "nbconvert_exporter": "python",
   "pygments_lexer": "ipython3",
   "version": "3.7.3"
  }
 },
 "nbformat": 4,
 "nbformat_minor": 2
}
